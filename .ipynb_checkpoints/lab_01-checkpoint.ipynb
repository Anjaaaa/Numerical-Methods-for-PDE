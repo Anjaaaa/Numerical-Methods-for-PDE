{
 "cells": [
  {
   "cell_type": "markdown",
   "metadata": {},
   "source": [
    "# Homework 1 "
   ]
  },
  {
   "cell_type": "markdown",
   "metadata": {},
   "source": [
    "## General Instructions\n",
    " \n",
    "* To pass this assignment requires to complete the Jupyter notebook by\n",
    "    + providing correct answers to all the theoretical exercises, and by\n",
    "    + providing complete and runnable computer code producing the correct results to all the computational problems.\n",
    "\n",
    "* For the theoretical exercises, please include intermediate steps to\n",
    "  explain how you arrive at your solution.\n",
    "* Don't overengineer your code, keep it as simple and readable as possible   and provide short code comments to help other people understanding your     code.\n",
    "* Please provide also a short summary and discussion of your results \n",
    "  including the requested output (e.g., tables, graphs etc.).\n",
    "\n",
    "* Up to 3 students can jointly submit the solutions. **Only 1 student from each group** is supposed to submit them. Please indicate the other members\n",
    "of your group in the comment field appearing when you submit your files in\n",
    "Cambro.\n",
    "\n",
    "* Deadline for submission of your solutions is **20th of November**.\n",
    "\n",
    "##### Happy coding!"
   ]
  },
  {
   "cell_type": "markdown",
   "metadata": {},
   "source": [
    "Executing the following cell loads a non-default css style for the notebook. \n",
    "Make sure that you download the corresponding css file  `custom-style-2017.css` from the `lab/styles` Cambro folder. Note that the following code snippet assumes that the file resides inside the folder `../styles/` relative to the folder where you stored this notebook on you computer."
   ]
  },
  {
   "cell_type": "code",
   "execution_count": 1,
   "metadata": {},
   "outputs": [
    {
     "ename": "FileNotFoundError",
     "evalue": "[Errno 2] No such file or directory: '../styles/custom-style-2017.css'",
     "output_type": "error",
     "traceback": [
      "\u001b[1;31m---------------------------------------------------------------------------\u001b[0m",
      "\u001b[1;31mFileNotFoundError\u001b[0m                         Traceback (most recent call last)",
      "\u001b[1;32m<ipython-input-1-1a4d0622724d>\u001b[0m in \u001b[0;36m<module>\u001b[1;34m()\u001b[0m\n\u001b[0;32m      5\u001b[0m \u001b[1;33m\u001b[0m\u001b[0m\n\u001b[0;32m      6\u001b[0m \u001b[1;31m# Comment out next line and execute this cell to restore the default notebook style\u001b[0m\u001b[1;33m\u001b[0m\u001b[1;33m\u001b[0m\u001b[0m\n\u001b[1;32m----> 7\u001b[1;33m \u001b[0mcss_styling\u001b[0m\u001b[1;33m(\u001b[0m\u001b[1;33m)\u001b[0m\u001b[1;33m\u001b[0m\u001b[0m\n\u001b[0m",
      "\u001b[1;32m<ipython-input-1-1a4d0622724d>\u001b[0m in \u001b[0;36mcss_styling\u001b[1;34m()\u001b[0m\n\u001b[0;32m      1\u001b[0m \u001b[1;32mfrom\u001b[0m \u001b[0mIPython\u001b[0m\u001b[1;33m.\u001b[0m\u001b[0mcore\u001b[0m\u001b[1;33m.\u001b[0m\u001b[0mdisplay\u001b[0m \u001b[1;32mimport\u001b[0m \u001b[0mHTML\u001b[0m\u001b[1;33m\u001b[0m\u001b[0m\n\u001b[0;32m      2\u001b[0m \u001b[1;32mdef\u001b[0m \u001b[0mcss_styling\u001b[0m\u001b[1;33m(\u001b[0m\u001b[1;33m)\u001b[0m\u001b[1;33m:\u001b[0m\u001b[1;33m\u001b[0m\u001b[0m\n\u001b[1;32m----> 3\u001b[1;33m     \u001b[0mstyles\u001b[0m \u001b[1;33m=\u001b[0m \u001b[0mopen\u001b[0m\u001b[1;33m(\u001b[0m\u001b[1;34m\"../styles/custom-style-2017.css\"\u001b[0m\u001b[1;33m,\u001b[0m \u001b[1;34m\"r\"\u001b[0m\u001b[1;33m)\u001b[0m\u001b[1;33m.\u001b[0m\u001b[0mread\u001b[0m\u001b[1;33m(\u001b[0m\u001b[1;33m)\u001b[0m\u001b[1;33m\u001b[0m\u001b[0m\n\u001b[0m\u001b[0;32m      4\u001b[0m     \u001b[1;32mreturn\u001b[0m \u001b[0mHTML\u001b[0m\u001b[1;33m(\u001b[0m\u001b[0mstyles\u001b[0m\u001b[1;33m)\u001b[0m\u001b[1;33m\u001b[0m\u001b[0m\n\u001b[0;32m      5\u001b[0m \u001b[1;33m\u001b[0m\u001b[0m\n",
      "\u001b[1;31mFileNotFoundError\u001b[0m: [Errno 2] No such file or directory: '../styles/custom-style-2017.css'"
     ]
    }
   ],
   "source": [
    "from IPython.core.display import HTML\n",
    "def css_styling():\n",
    "    styles = open(\"../styles/custom-style-2017.css\", \"r\").read()\n",
    "    return HTML(styles)\n",
    "\n",
    "# Comment out next line and execute this cell to restore the default notebook style \n",
    "css_styling()"
   ]
  },
  {
   "cell_type": "markdown",
   "metadata": {},
   "source": [
    "## Problem 1\n",
    "Find at least 4 more \"famous\" partial differential equations (PDE) with\n",
    "one in each category \"Linear PDE, Non-linear PDE, Linear System,\n",
    "Non-linear system\". Give a brief description of the underlying phenomena\n",
    "modeled by the PDE."
   ]
  },
  {
   "cell_type": "markdown",
   "metadata": {},
   "source": [
    "## Problem 2\n",
    "\n",
    "In Lecture 2, we introduced the __central finite difference operators__\n",
    "$$\n",
    "\\partial^0 u(x)\n",
    "=  \\dfrac{u(x+h) - u(x-h)}\n",
    "{2h}\n",
    "\\approx u'(x)\n",
    "$$\n",
    "and\n",
    "$$\n",
    "\\partial^+ \\partial^- u(x)\n",
    "=  \\dfrac{u(x+h) - 2 u(x) + u(x-h)}\n",
    "{h^2}\n",
    "\\approx u''(x)\n",
    "$$\n",
    "as an approximation of the first and the second order derivative $u'(x)$\n",
    "and\n",
    "$u''(x)$, respectively.\n",
    "\n",
    "Recall that for  $u \\in C^k([0,1])$, the \n",
    "Taylor expansion of $u$ around $x$ is given by\n",
    "$$\n",
    "u(x+h) = u(x) + h u'(x) + \\dfrac{h^2}{2!} u''(x) \n",
    "%+\\dfrac{h^3}{3!} u^{(3)}(x)\n",
    "+ \\ldots \n",
    "+ \\dfrac{h^{k-1}}{(k-1)!} u^{(k-1)}(x)\n",
    "+ \\dfrac{h^{k}}{k!} u^{(k)}(\\xi)\n",
    "$$\n",
    "for some $\\xi \\in (x,x+h)$. \n",
    "Since $u \\in C^k([0,1])$, the remainder term \n",
    "$\\dfrac{h^k}{k!} u^{(k)}(\\xi)$ is uniformly bounded with respect to \n",
    "$\\xi$ and thus we can simply write\n",
    "$$\n",
    "u(x+h) = u(x) + h u'(x) + \\dfrac{h^2}{2!} u''(x) \n",
    "%+\\dfrac{h^3}{3!} u^{(3)}(x)\n",
    "+ \\ldots \n",
    "+ \\dfrac{h^{k-1}}{(k-1)!} u^{(k-1)}(x)\n",
    "+ \\mathcal{O}(h^{k})\n",
    "$$\n",
    "\n",
    "**a)** Use Taylor expansion to show that\n",
    "for \n",
    "$u \\in C^3([0,1])$\n",
    "$$\n",
    "\\| \\partial^0u(x) - u'(x) \\|_{C([0,1])}\n",
    "\\leqslant \n",
    "C h^2\n",
    " \\| u^{(3)} \\|_{C([0,1])}\n",
    "$$\n",
    "\n",
    "**b)** Similarly, demonstrate that\n",
    "$$\n",
    "\\| \\partial^+ \\partial^-u(x) - u''(x) \\|_{C([0,1])}\n",
    "\\leqslant \n",
    "C h^2\n",
    " \\| u^{(4)} \\|_{C([0,1])}\n",
    "$$\n",
    "assuming that\n",
    "$u \\in C^4([0,1])$."
   ]
  },
  {
   "cell_type": "markdown",
   "metadata": {},
   "source": [
    "## Problem 3\n",
    "In this problem set you are asked to solve the Poisson problem\n",
    "$$\n",
    "- u''  = f \\quad \\text{in } (0,1)\n",
    "$$\n",
    "numerically for various types of boundary conditions.\n",
    "\n",
    "**a)** Start with implementing the finite difference method (FDM)\n",
    "from Lecture 2 using the right-hand side\n",
    "$$\n",
    "f = (2\\pi)^2 \\cos(2 \\pi x)\n",
    "$$\n",
    "and boundary conditions\n",
    "$$u(0) = u(1) = 1.$$\n",
    "Plot the solutions for different mesh sizes $h = 1/N$\n",
    "with $N = 4, 8, 16, 32, 64$ in the *same* plot. \n",
    "Find the *exact* analytical solution $u$ to the given Poisson problem (Hint: it should be very similar to $f$) and plot it for $N = 64$ into the same figure. \n",
    "Does your computed discrete solution $U$ converge to $u$?\n",
    "\n",
    "**b)** Next, we switch to a Neumann boundary condition\n",
    "on the left endpoint; that is that we consider the following\n",
    "the boundary conditions:\n",
    "$$ -u'(0) = 0, \\quad u(1) = 1.$$\n",
    "Modify your FDM solver to incoporate the Neumann condition based on the one-side apprioximation\n",
    "$$ -u'(0)\\approx \\frac{u(0) - u(h)}{h}$$\n",
    "Conduct a similar numerical study as in part a). What do you observe regarding the accuracy of the\n",
    "method?\n",
    "\n",
    "**c)** Now use Neumann boundary conditions everywhere; that is, take\n",
    "$$ -u'(0) = 0,\\quad u'(1) = 0$$\n",
    "and try to solve the resulting Poisson problem.\n",
    "What happens when you try to solve the linear algebra system? Why? (Hint: Is this problem well-posed?)"
   ]
  },
  {
   "cell_type": "markdown",
   "metadata": {},
   "source": [
    "### Useful code snippets\n",
    "\n",
    "As most of you are familiar with MATLAB but not so familar\n",
    "with Python, we provide a number of code snippets to get you\n",
    "started in Python. Three dots $\\ldots$ indicate places where you have\n",
    "to fill in code. Note that this outline provides only a very rudimentary\n",
    "inefficient implementation to begin with and we will refine\n",
    "our methods while progressing towards more advanced and larger problems.\n",
    "\n",
    "We start with importing the necessary scientific libraries\n",
    "and define a name alias for them."
   ]
  },
  {
   "cell_type": "code",
   "execution_count": 2,
   "metadata": {
    "collapsed": true
   },
   "outputs": [],
   "source": [
    "# Arrary and stuff \n",
    "import numpy as np\n",
    "# Linear algebra solvers from scipy\n",
    "import scipy.linalg as la\n",
    "# Basic plotting routines from the matplotlib library \n",
    "import matplotlib.pyplot as plt"
   ]
  },
  {
   "cell_type": "markdown",
   "metadata": {},
   "source": [
    "Next we define the grid points."
   ]
  },
  {
   "cell_type": "code",
   "execution_count": 3,
   "metadata": {},
   "outputs": [
    {
     "name": "stdout",
     "output_type": "stream",
     "text": [
      "[ 0.    0.25  0.5   0.75  1.  ]\n"
     ]
    }
   ],
   "source": [
    "# Number of equally spaced subintervals\n",
    "N = 4\n",
    "# Mesh size\n",
    "h = 1/N #Important! In Python 2 you needed to write 1.0 to prevent integer divsion\n",
    "# Define N+1 grid points via linspace which is part of numpy now aliased as np \n",
    "x = np.linspace(0,1,N+1)\n",
    "print(x)"
   ]
  },
  {
   "cell_type": "markdown",
   "metadata": {},
   "source": [
    "Now define matrix $A$ and right-hand side vector $F$.\n",
    "We will first fill in the values that will be unchanged for different\n",
    "boundary conditions."
   ]
  },
  {
   "cell_type": "code",
   "execution_count": 4,
   "metadata": {},
   "outputs": [
    {
     "ename": "TypeError",
     "evalue": "float() argument must be a string or a number, not 'ellipsis'",
     "output_type": "error",
     "traceback": [
      "\u001b[1;31m---------------------------------------------------------------------------\u001b[0m",
      "\u001b[1;31mTypeError\u001b[0m                                 Traceback (most recent call last)",
      "\u001b[1;32m<ipython-input-4-36326733be4c>\u001b[0m in \u001b[0;36m<module>\u001b[1;34m()\u001b[0m\n\u001b[0;32m      4\u001b[0m \u001b[1;31m# Define tridiagonal part of A by for rows 1 to N-1\u001b[0m\u001b[1;33m\u001b[0m\u001b[1;33m\u001b[0m\u001b[0m\n\u001b[0;32m      5\u001b[0m \u001b[1;32mfor\u001b[0m \u001b[0mi\u001b[0m \u001b[1;32min\u001b[0m \u001b[0mrange\u001b[0m\u001b[1;33m(\u001b[0m\u001b[1;36m1\u001b[0m\u001b[1;33m,\u001b[0m \u001b[0mN\u001b[0m\u001b[1;33m)\u001b[0m\u001b[1;33m:\u001b[0m\u001b[1;33m\u001b[0m\u001b[0m\n\u001b[1;32m----> 6\u001b[1;33m     \u001b[0mA\u001b[0m\u001b[1;33m[\u001b[0m\u001b[0mi\u001b[0m\u001b[1;33m,\u001b[0m \u001b[0mi\u001b[0m\u001b[1;33m-\u001b[0m\u001b[1;36m1\u001b[0m\u001b[1;33m]\u001b[0m \u001b[1;33m=\u001b[0m \u001b[1;33m...\u001b[0m\u001b[1;33m\u001b[0m\u001b[0m\n\u001b[0m\u001b[0;32m      7\u001b[0m     \u001b[0mA\u001b[0m\u001b[1;33m[\u001b[0m\u001b[0mi\u001b[0m\u001b[1;33m,\u001b[0m \u001b[0mi\u001b[0m\u001b[1;33m+\u001b[0m\u001b[1;36m1\u001b[0m\u001b[1;33m]\u001b[0m \u001b[1;33m=\u001b[0m \u001b[1;33m...\u001b[0m\u001b[1;33m\u001b[0m\u001b[0m\n\u001b[0;32m      8\u001b[0m     \u001b[0mA\u001b[0m\u001b[1;33m[\u001b[0m\u001b[0mi\u001b[0m\u001b[1;33m,\u001b[0m \u001b[0mi\u001b[0m\u001b[1;33m]\u001b[0m \u001b[1;33m=\u001b[0m \u001b[1;33m...\u001b[0m\u001b[1;33m\u001b[0m\u001b[0m\n",
      "\u001b[1;31mTypeError\u001b[0m: float() argument must be a string or a number, not 'ellipsis'"
     ]
    }
   ],
   "source": [
    "# Define a (full) matrix filled with 0s.\n",
    "A = np.zeros((N+1, N+1))\n",
    "\n",
    "# Define tridiagonal part of A by for rows 1 to N-1\n",
    "for i in range(1, N):\n",
    "    A[i, i-1] = ...\n",
    "    A[i, i+1] = ...\n",
    "    A[i, i] = ...\n",
    "    \n",
    "# Define right hand side. Instead of iterating we\n",
    "# use a vectorized variant to evaluate f on all grid points\n",
    "# Look out for the right h factors! \n",
    "F = ...*np.cos(2*np.pi*x)\n",
    "\n",
    "# Note that F[0] and F[N] are also filled!"
   ]
  },
  {
   "cell_type": "markdown",
   "metadata": {},
   "source": [
    "Last step to set up the system is to take the boundary conditions into account by modifying $A$ and $F$ properly."
   ]
  },
  {
   "cell_type": "code",
   "execution_count": null,
   "metadata": {
    "collapsed": true
   },
   "outputs": [],
   "source": [
    "# Left boundary\n",
    "A[0,0] = ...\n",
    "F[0] = ...\n",
    "\n",
    "# Right boundary\n",
    "A[N,N] = ...\n",
    "F[N] = ..."
   ]
  },
  {
   "cell_type": "markdown",
   "metadata": {},
   "source": [
    "Now we solve the linear algebra system $AU = F$ and plot the results."
   ]
  },
  {
   "cell_type": "code",
   "execution_count": null,
   "metadata": {
    "collapsed": true
   },
   "outputs": [],
   "source": [
    "U = la.solve(A, F)\n",
    "#  \"x-r\" means mark data points as \"x\", connect them by a line and use red color\n",
    "plt.plot(x, U, \"x-r\")"
   ]
  },
  {
   "cell_type": "markdown",
   "metadata": {},
   "source": [
    "With these snippets in place you should be able to solve Computer Problem 1\n",
    "but don't hesitate to ask if you are wondering about something!"
   ]
  },
  {
   "cell_type": "markdown",
   "metadata": {},
   "source": [
    "## Problem 4\n",
    "\n",
    "The goal of this problem is to investigate the numerical error introduced by the FDM more quantitatively and to familiarize us with the **method of manufactured solution**.\n",
    "\n",
    "The idea is to assess the accurracy and correctness of a PDE solver implementation by constructing a know reference solution which solves the PDE problem at hand. This can be simply done by picking a meaningful and not to boring analytical solution\n",
    "and explicitly calculate the data which need to be supplied, e.g.,\n",
    "the right-hand side or boundary values for various boundary condition.\n",
    "\n",
    "For instance, taking the function $u(x) = x + \\cos(2 \\pi x)$, we can simply calculate that\n",
    "\\begin{align}\n",
    " u'(x) &= 1 - 2\\pi \\sin(2\\pi x)\n",
    " \\\\\n",
    " u''(x) &= - (2\\pi)^2 \\cos(2\\pi x)\n",
    "\\end{align}\n",
    "and thus $u$ satisfies the Poisson problem\n",
    "$$\n",
    "-u''(x) = (2\\pi)^2 \\cos(2\\pi x)\n",
    "$$\n",
    "with boundary conditions\n",
    "$$\n",
    "-u'(0) = -1, \\quad u(1) = 2.\n",
    "$$\n",
    "\n",
    "With a known reference solution at hand we can compute\n",
    "the error vector $u_i - U_i$ at the grid points $\\{x_i\\}_{i=0}^N$\n",
    "for a series of successively refined grid, e.g. by taking\n",
    "$N = 4\\cdot2^k$ for $k = 0, 1, 2, 3$ etc.\n",
    "\n",
    "Reducing the mesh size $h$ by half allows us to easily compute\n",
    "the **experimental order of convergence (EOC)**,\n",
    "that is the observed error reduction in the numerical solution\n",
    "when passing from a coarser mesh with mesh size $h$ to\n",
    "to a finer mesh with $h/2$.\n",
    "The EOC can then be compare with the theoretically predicted error reduction (if known).\n",
    "\n",
    "For instance, if you know that the discretization error $E(h)$ given on mesh\n",
    "with mesh size $h$ and measured in some norm $ \\| \\cdot \\| $ behaves like \n",
    "$\\| E(h) \\| \\sim h^k$, you can conclude that  \n",
    "$$\n",
    "\\dfrac{\\|E(h/2)\\|}{\\|E(h)\\|} \\sim \\dfrac{(h/2)^k}{h^k} = (1/2)^k\n",
    "$$\n",
    "when passing from $h$ to half the mesh size $h/2$. Taking the logarithm\n",
    "of the last equation shows \n",
    "$$\n",
    "k \\sim \\dfrac{\\ln(\\|E(h)\\|/\\|E(h/2)\\|)}{\\ln 2}. \n",
    "$$\n",
    "(Verify this!)\n",
    "Thus the EOC is measured by the \n",
    "$$\n",
    "EOC = \\dfrac{\\ln(\\|E(h)\\|/\\|E(h/2)\\|)}{\\ln 2}.\n",
    "$$\n",
    "\n",
    "Alternatively, you can do a log-log plot of your error as function of $h$,\n",
    "that is plot $\\ln (\\| E(h)\\|)$ againts $\\ln(h)$. Then the slope of this\n",
    "plot should be $\\sim k$ if we expect the method to be of convergence order $k$.\n",
    "\n",
    "a) Use this approach to verify your FDM program developed in Problem 3 a) by computing the error for $N= 4, 8, 16, 32, 64$ in the maximum norm.\n",
    "Give the corresponding $\\log$-$\\log$ plot and report your convergence order.\n",
    "Do you achieve 2nd order convergence?\n",
    "\n",
    "b) Next, repeat the same experiment for the Poisson problem 3b) with\n",
    "mixed Dirchlet/Neumann boundary conditions. What EOC do you observe?\n",
    "Can you explain it?\n",
    "\n",
    "c) Finally,  repeat task b) but now use $u(x) = x + \\sin(2 \\pi x)$.\n",
    "Start with computing the corresponding right-hand side $f$, Neumann condition in $x=0$ and Dirichlet condition in $x=1$. What EOC do you observe now? **Bonus:** Can you explain why there is a difference in the observed EOC compared to the results from b)?"
   ]
  },
  {
   "cell_type": "markdown",
   "metadata": {},
   "source": [
    "### Useful code snippets\n",
    "\n",
    "While we won't use the Python data analysis libray `pandas` extensively in this course, it comes in very handy if you want to print all kinds of data in a pretty way.\n",
    "\n",
    "Here is an example of how to use `pandas` to diplay convergence rate tables\n",
    "nice within the Jupyter notebook."
   ]
  },
  {
   "cell_type": "code",
   "execution_count": null,
   "metadata": {
    "collapsed": true
   },
   "outputs": [],
   "source": [
    "# Import pandas \n",
    "import pandas as pd\n",
    "# and numpy (only to provide a complete example here)\n",
    "import numpy as np\n",
    "\n",
    "# Import functions which provides nice rendering of data.\n",
    "from IPython.display import display, HTML\n",
    "\n",
    "# Create a list refinement levels\n",
    "refs = [ N**2 for N in range(2,9)]\n",
    "print(\"Refinements\")\n",
    "print(refs)\n",
    "\n",
    "# Generating some dummy data just for illustration purpose.\n",
    "# You have to make your own list/arrays containing the \n",
    "# computed errors an EOC.\n",
    "\n",
    "errors = np.random.randn(7)\n",
    "eocs = np.random.randn(7)\n",
    "print(errors)\n",
    "print(eocs)\n",
    "\n",
    "# Make a dictionary containing the data set\n",
    "# consisting of a column labeled \"Errors\"\n",
    "# and one labeled \"EOC\"\n",
    "data = {\"Errors\":errors, \"EOC\":eocs}\n",
    "\n",
    "# Create a dataframe (basically just a 2D table in our case)\n",
    "# and use the refinement numbers as index\n",
    "df = pd.DataFrame(data, index=refs)\n",
    "\n",
    "# A Python dict does not store the keys in a sorted way.\n",
    "# The next line sorts the columns according the list\n",
    "#[\"Errors\", \"EOC\"] \n",
    "df = df[[\"Errors\", \"EOC\"]]\n",
    "\n",
    "# Finally give the index column a name as well\n",
    "df.index.name=\"Refinement level\"\n",
    "\n",
    "# 2 possibilities to pretty print the dataframe\n",
    "display(df)\n",
    "HTML(df.to_html())"
   ]
  },
  {
   "cell_type": "markdown",
   "metadata": {},
   "source": [
    "## Problem 5\n",
    "\n",
    "In the final computer exercise you are asked to extend your FDM solver in order to compute a solution to the *Advection-Diffusion problem*\n",
    "$$\n",
    "- \\epsilon u''(x) + b u'(x) = f(x) \\quad \\text{for } x \\in (0,1),\n",
    "\\\\\n",
    "u(0) = u(1) = 0,\n",
    "$$\n",
    "with $b = 1$ and various $\\epsilon$ tending $0$. While for $\\epsilon > 0$,\n",
    "the problem is clearly a 2nd order problem, its characteristics\n",
    "change drastically for $\\epsilon \\to 0$. Formally, the limit equation\n",
    "is given by the **first order** problem\n",
    "$$\n",
    "b u'(x) = f(x) \\quad \\text{for } x \\in (0,1)\n",
    "$$\n",
    "and we see immediately that only *one* boundary condition should\n",
    "be required in the limit case. (Convince yourself by assuming that $f = 1$ and trying to compute a solution). It turns out that it is natural to impose a Dirichlet boundary condition $u(0) = u_0$ only at the \"inflow point\" $x(0)$ and thus\n",
    "the \"outflow point\" $u(1) = u_1$ becomes \"superfluous\" when $\\epsilon \\to 0$. Here, we will study what happens to our FDM solver when we gradually approache this limit case.\n",
    "\n",
    "**a)** Compute $f$ such that\n",
    "\\begin{align}\n",
    "  u(x)\n",
    "  = \n",
    "  x - \n",
    "  \\dfrac{e^{(x-1)/\\epsilon} - e^{-1/\\epsilon}}\n",
    "  {1 - e^{-1/\\epsilon}}\n",
    "\\end{align}\n",
    "is an exact solution for $b = 1$ and arbitrary $\\epsilon$\n",
    "(Hint: $f$ should not look too complicated...).\n",
    "\n",
    "**b)**\n",
    "Start with using the symmetric/central difference operator\n",
    "$$\n",
    "\\partial^0 U_i = \\dfrac{U_{i+1} - U_{i-1}}{2h}\n",
    "$$\n",
    "to discretize the first order derivative $b u'(x)$.\n",
    "How does the resulting matrix system look like?\n",
    "Adapt your FDM solver from Problem 1 accordingly and\n",
    "verify your implementation employing the method of manufactured solution from Problem 4.\n",
    "\n",
    "**c)** Now repeat the numerical experiment and compute\n",
    "a numerical solution $U_{\\epsilon}$ for\n",
    "$\\epsilon = 0.1, 0.01. 0.001$ and at least $4$ successively refined\n",
    "grids. For each $\\epsilon$ provide a plot including the exact\n",
    "solution and the computed approximations. What do you observe?\n",
    "\n",
    "Report the EOC, this time\n",
    "in a 2 column table with the first column reporting the mesh size\n",
    "and the second column reporting the computed error. Is the error\n",
    "reduced by a factor $4$ as expected from a 2nd order convergent method?\n",
    "Can you recover order $2$ by making the meshes even finer?\n",
    "\n",
    "**d**) Finally, again, conduct the same experiment\n",
    "after replacing $\\partial^0$ by 1) $\\partial^+$ and 2) $\\partial ^-$.\n",
    "Describe your observations of the discrete solution behavior.\n",
    "Which variant gives the most satisfying/robust solution\n",
    "for small $\\epsilon$?"
   ]
  }
 ],
 "metadata": {
  "anaconda-cloud": {},
  "kernelspec": {
   "display_name": "Python 3",
   "language": "python",
   "name": "python3"
  },
  "language_info": {
   "codemirror_mode": {
    "name": "ipython",
    "version": 3
   },
   "file_extension": ".py",
   "mimetype": "text/x-python",
   "name": "python",
   "nbconvert_exporter": "python",
   "pygments_lexer": "ipython3",
   "version": "3.6.2"
  }
 },
 "nbformat": 4,
 "nbformat_minor": 1
}
